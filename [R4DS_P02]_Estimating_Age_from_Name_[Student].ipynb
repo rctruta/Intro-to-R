{
  "cells": [
    {
      "cell_type": "markdown",
      "metadata": {
        "id": "view-in-github",
        "colab_type": "text"
      },
      "source": [
        "<a href=\"https://colab.research.google.com/github/rctruta/Intro-to-R/blob/main/%5BR4DS_P02%5D_Estimating_Age_from_Name_%5BStudent%5D.ipynb\" target=\"_parent\"><img src=\"https://colab.research.google.com/assets/colab-badge.svg\" alt=\"Open In Colab\"/></a>"
      ]
    },
    {
      "cell_type": "markdown",
      "source": [
        "<a href=https://uplimit.com/course/r-for-data-science>\n",
        "  <img src=https://imgur.com/6Vkc11w.png />\n",
        "</a>\n",
        "\n",
        "|        |                                   |                                   |                                 |                                |\n",
        "| -------| ----------------------------------| -------------------------------- -| --------------------------------| ------------------------------------------|\n",
        "| Week 1 | [[01] Doing Data Science](https://colab.research.google.com/drive/1aWpmzS36qVc8hNIaSSSHexlodwwyMJCB)           | [[02] Data Science in Action](https://colab.research.google.com/drive/1aWpmzS36qVc8hNIaSSSHexlodwwyMJCB)       | [[03] Importing Data](https://colab.research.google.com/drive/13kHBX3H1F2yx5yXWJ5iFZh48qjEtpLjU)             | [[04] Visualizing Data: Overview](https://colab.research.google.com/drive/1JSeDt-Gneegd5B2KwWTJF_igYPb-xsIv)          |\n",
        "|        | [[05] Transforming Data: Overview](https://colab.research.google.com/drive/1IMZJFE8WmwjgdYCddvaO386PljKq_PjC)  | [[06] Transforming Data: Manipulate](https://colab.research.google.com/drive/19ClnAH7d30I9PkD9KuZndPmy5hxk3gdi) |                                 |                                           |\n",
        "| Week 2 | [[07] Transforming Data: Aggregate](https://colab.research.google.com/drive/1zigvePewKpzKQHx2pjABXU6Ms8QzQXj7) | [[08] Transforming Data: Reshape](https://colab.research.google.com/drive/1Ma9VrM9SrkNEeXTSul0Ca8a7GHAeNLzC)   | [[09] Transforming Data: Combine](https://colab.research.google.com/drive/1JUGm1h4YPmCkre-rVUj5Ql7lBS66_xIs) | [[10] Visualizing Data: Grammar of Graphics](https://colab.research.google.com/drive/1YLE3NPp-TO2KUTohtidjzKMeqJVWxYoT) |\n",
        "|        | [[11] Data Science in Action Again](https://colab.research.google.com/drive/1eWjVK4oEiXdwdP4sT0nOJlmkCMBkfLpz) |                                   |                                 |                                           |\n",
        "Books | [Hands on Programming with R](https://rstudio-education.github.io/hopr/index.html) | [R for Data Science](https://r4ds.hadley.nz/) | [Elegant Graphics for Data Analysis](https://ggplot2-book.org/)"
      ],
      "metadata": {
        "id": "h_qeZl3L_-Jf"
      }
    },
    {
      "cell_type": "markdown",
      "source": [
        "> 📕 __BEFORE YOU GET STARTED:__\n",
        "> 1. Click on **Copy to Drive** to copy notebook to your drive.\n",
        "> 2. Click on **Share** on the top-right corner (of your copied notebook).\n",
        "> 3. Update sharing settings to **Anyone with link**\n",
        "> 4. Delete this cell."
      ],
      "metadata": {
        "id": "gC53lFb4Qkmm"
      }
    },
    {
      "cell_type": "markdown",
      "metadata": {
        "id": "8a3f1c1d"
      },
      "source": [
        "## What's in a Name? - Estimating Age from Name\n",
        "\n",
        "![shakespeare-whats-in-a-name](https://miro.medium.com/v2/resize:fit:800/1*Prp8tivsOP54c-bPTpxj5A.png)\n",
        "\n",
        "So, what more is in a name? Well, with some further work, it is possible to predict the age of a person based on the name (Whoa! Really????). The popular FiveThirtyEight published a [blog post](https://fivethirtyeight.com/features/how-to-tell-someones-age-when-all-you-know-is-her-name/) on this in 2014. Would it not be fun to try and replicate the results? Actually, we are going to do more than just replicate the results, since we now have 7 years worth of additional data.\n",
        "\n",
        "<img src=https://fivethirtyeight.com/wp-content/uploads/2014/05/silver-feature-most-common-women-names3.png height=600px />"
      ]
    },
    {
      "cell_type": "markdown",
      "source": [
        "⚠️ __Install Packages: This can take a couple of minutes. So be patient!__\n"
      ],
      "metadata": {
        "id": "o5gf95psRs5a"
      }
    },
    {
      "cell_type": "code",
      "source": [
        "# Install packages\n",
        "url = \"https://gist.githubusercontent.com/ramnathv/e71d3ffe88961fc4ef95642053012384/raw/9dda53562d06009912841ab3538d4aeb90e5ee09/_common.R\"\n",
        "download.file(url, basename(url))\n",
        "source(\"_common.R\")\n",
        "pkgs <- c(\"Hmisc\", \"janitor\", \"zoo\")\n",
        "install.packages(pkgs)"
      ],
      "metadata": {
        "id": "KlspinbbB_GN"
      },
      "execution_count": null,
      "outputs": []
    },
    {
      "cell_type": "markdown",
      "source": [
        "### Import Data\n",
        "\n",
        "#### Names\n",
        "\n",
        "Let us start by reading in the babynames data from `data/names.csv.gz` into a data frame named `tbl_names`."
      ],
      "metadata": {
        "id": "BeXnS034SJWz"
      }
    },
    {
      "cell_type": "code",
      "execution_count": null,
      "metadata": {
        "lines_to_next_cell": 2,
        "message": false,
        "name": "tbl-names",
        "id": "de5448cc"
      },
      "outputs": [],
      "source": [
        "# Load the tidyverse package\n",
        "\n",
        "\n",
        "# Read data_url into a data frame named `tbl_names`\n",
        "data_url <- \"https://github.com/ramnathv/corise-r-for-ds/raw/main/data/names.csv.gz\"\n",
        "\n",
        "\n",
        "# Print head of tbl_names\n"
      ]
    },
    {
      "cell_type": "markdown",
      "metadata": {
        "id": "f4dc59b4"
      },
      "source": [
        "#### Lifetables\n",
        "\n",
        "In order to estimate age from a person's name, we will additionally need actuarial data that can tell us the chances that someone is still alive, based on when they were born. Fortunately, the SSA provides detailed\n",
        "[actuarial life tables](https://www.ssa.gov/oact/NOTES/as120/LifeTables_Tbl_6_1990.html) by birth cohorts for the US."
      ]
    },
    {
      "cell_type": "markdown",
      "metadata": {
        "id": "4ea5763c"
      },
      "source": [
        "| year| age|      qx|    lx|  dx|    Lx|      Tx|    ex|sex |\n",
        "|----:|---:|-------:|-----:|---:|-----:|-------:|-----:|:---|\n",
        "| 1910|  39| 0.00283| 78275| 222| 78164| 3129636| 39.98|F   |\n",
        "| 1910|  40| 0.00297| 78053| 232| 77937| 3051472| 39.09|F   |\n",
        "| 1910|  41| 0.00318| 77821| 248| 77697| 2973535| 38.21|F   |\n",
        "| 1910|  42| 0.00332| 77573| 257| 77444| 2895838| 37.33|F   |\n",
        "| 1910|  43| 0.00346| 77316| 268| 77182| 2818394| 36.45|F   |\n",
        "| 1910|  44| 0.00351| 77048| 270| 76913| 2741212| 35.58|F   |\n",
        "\n",
        "The key column of interest to us is `lx`, which provides the number of people born in a year who live up to a given age. The probability of being alive can be derived as `lx` by 100,000. You can read the documentation for the lifetables to understand what the other columns mean.\n",
        "\n",
        "How do we get this data in R? There are no CSV files to download. The data is on the website of the SSA as an HTML table. Moreover, the data for different years are on different pages. This is a very common situation you will find yourself in as a data scientist.\n",
        "\n",
        "Fortunately, R and the `tidyverse` has an excellent set of packages that make it easy to scrape data from the web programmatically and bring them into R as a table. This goes beyond the scope of this course and so I have simply included the code I used to scrape this data.\n"
      ]
    },
    {
      "cell_type": "code",
      "execution_count": null,
      "metadata": {
        "id": "61ade712"
      },
      "outputs": [],
      "source": [
        "read_lifetable <- function(year) {\n",
        "  url <- glue::glue(\n",
        "    \"https://www.ssa.gov/oact/NOTES/as120/LifeTables_Tbl_6_{year}.html\"\n",
        "  )\n",
        "  # Extract raw lifetable for year\n",
        "  lifetable <- xml2::read_html(url) |>\n",
        "    # Read ALL html tables\n",
        "    rvest::html_table(header = FALSE) |>\n",
        "    # Extract the second table in the list\n",
        "    magrittr::extract2(2) |>\n",
        "    # Slice the first and third rows off\n",
        "    slice(-c(1, 3))\n",
        "\n",
        "  # Extract columns for male (1:7) and female (9:15) and stack them\n",
        "  col_names <- c(unlist(lifetable[1, 1:6], use.names = F), 'ex')\n",
        "  tibble(sex = c(\"M\", \"F\"), cols = list(1:7, 9:15)) |>\n",
        "    mutate(table = purrr::map2(sex, cols, ~ {\n",
        "      lifetable |>\n",
        "        slice(-1) |>\n",
        "        select(all_of(.y)) |>\n",
        "        set_names(nm = col_names)\n",
        "    })) |>\n",
        "    select(!cols) |>\n",
        "    unnest(table) |>\n",
        "    filter(x != \"\") |>\n",
        "    rename(age = x) |>\n",
        "    mutate(across(!sex, parse_number))\n",
        "}\n",
        "\n",
        "read_lifetables <- function() {\n",
        "  tibble(year = seq(1900, 2100, by = 10)) |>\n",
        "    mutate(lifetable = purrr::map(year, read_lifetable)) |>\n",
        "    tidyr::unnest(lifetable)\n",
        "}\n",
        "\n",
        "# tbl_lifetables <- read_lifetables()"
      ]
    },
    {
      "cell_type": "markdown",
      "metadata": {
        "id": "03c9d1e4"
      },
      "source": [
        "We already ran the code above and saved the data as `data/lifetables.csv.gz`. Let us read it into a table named `tbl_lifetables`."
      ]
    },
    {
      "cell_type": "code",
      "execution_count": null,
      "metadata": {
        "name": "tbl-lifetables",
        "id": "58f3463d"
      },
      "outputs": [],
      "source": [
        "# Read data/lifetables.csv.gz into a data frame named `tbl_lifetables`\n",
        "file_name_lifetables <- \"https://github.com/ramnathv/corise-r-for-ds/raw/main/data/lifetables.csv.gz\"\n",
        "# Read file_name_lifetables into a data frame named `tbl_lifetables`\n",
        "\n",
        "\n",
        "# Print head of `tbl_lifetables`\n"
      ]
    },
    {
      "cell_type": "markdown",
      "metadata": {
        "id": "df721ef5"
      },
      "source": [
        "It is always a good idea to plot the data to understand it better. Given that this is a table of probabilities of survival, let us plot the survival curve for a person to be alive in 2022 based on the year they were born."
      ]
    },
    {
      "cell_type": "code",
      "execution_count": null,
      "metadata": {
        "name": "plot-lifetables",
        "id": "3e1183da"
      },
      "outputs": [],
      "source": [
        "tbl_lifetables |>\n",
        "  # Filter for rows where age and year sum up to 2022\n",
        "  filter(___ + ___ == ___) |>\n",
        "  # Initialize a ggplot of year vs. probability of being alive (lx/10^5) colored by sex\n",
        "  ___(___(x = ___, y = ___, color = ___)) +\n",
        "  # Add a step layer\n",
        "  geom_step() +\n",
        "  # Add labels (title, subtitle, x, y, caption)\n",
        "  labs(\n",
        "    title = \"___\",\n",
        "    subtitle = \"___\",\n",
        "    x = \"___\",\n",
        "    y = \"___\",\n",
        "    caption = \"Source: ___\"\n",
        "  ) +\n",
        "  # Update theme to move plot title\n",
        "  theme(plot.title.position = 'plot')"
      ]
    },
    {
      "cell_type": "markdown",
      "metadata": {
        "id": "fe1f97a0"
      },
      "source": [
        "Looking at the plot, we gather that a male born in 1950 has almost a 50% chance of being alive in 2022. Notice that `tbl_lifetable` only has entries for every decade. In order to figure out the distribution of people alive, we need the probabilities for every year. One way to fill up the gaps in the data is to use some kind of interpolation. We will extend the lifetable by adding the full sequence of years for every `sex` and `age` combination, and then extrapolating the data to compute `lx` for the newly added combinations.\n",
        "\n",
        "### Transform Data\n",
        "\n",
        "#### Manipulate Data\n",
        "\n",
        "We can extend the lifetables this by using three useful functions:\n",
        "\n",
        "1. `full_seq`: Creates a full sequence of values in a vector.\n",
        "2. `complete`: Completes a data frame with missing combinations.\n",
        "3. `na.spline`: Replace `NA` with interpolated values using cubic interpolation.\n",
        "\n",
        "Given that we want to interpolate for all combinations of `sex` and `age`, we first need to group by `sex` and `age`, then use `complete` and `full_seq` to add the missing combinations, and finally `zoo::na.approx` to interpolate the `NA` values using cubic interpolation. We will `ungroup` the data at the end as the grouping is no longer necessary."
      ]
    },
    {
      "cell_type": "code",
      "execution_count": null,
      "metadata": {
        "name": "tbl-lifetables-extended",
        "id": "33ec93db"
      },
      "outputs": [],
      "source": [
        "tbl_lifetables_extended <- tbl_lifetables |>\n",
        "  # Select the columns sex, age, year, and lx\n",
        "\n",
        "  # Group by sex and age\n",
        "\n",
        "  # Complete the sequence of years\n",
        "  complete(year = full_seq(year, period = 1)) |>\n",
        "  # Add a NEW boolean column to indicate if the data is imputed\n",
        "  mutate(is_imputed = is.na(lx)) |>\n",
        "  # Interpolate missing values using zoo::na.approx\n",
        "  mutate(lx = zoo::na.approx(lx)) |>\n",
        "  # Ungroup the data\n",
        "  ungroup()\n",
        "\n",
        "head(tbl_lifetables_extended)"
      ]
    },
    {
      "cell_type": "markdown",
      "metadata": {
        "id": "3ea7819f"
      },
      "source": [
        "We can get the probability that a person has survived till 2022 by filtering `tbl_lifetables_extended` for rows where `year + age = 2022`."
      ]
    },
    {
      "cell_type": "code",
      "execution_count": null,
      "metadata": {
        "name": "plot-lifetables-extended",
        "id": "885b126e"
      },
      "outputs": [],
      "source": [
        "tbl_lifetables_extended_2022 <- tbl_lifetables_extended |>\n",
        "  filter(year + age == 2022)\n",
        "\n",
        "tbl_lifetables_extended_2022 |>\n",
        "  # Initialize a ggplot of year vs. probability of being alive (lx/10^5)\n",
        "\n",
        "  # Add a line layer\n",
        "\n",
        "  # Add a step layer for the non-imputed data\n",
        "  geom_step(\n",
        "    data = function(d) filter(d, !is_imputed),\n",
        "    linetype = 'dashed'\n",
        "  ) +\n",
        "  # Add labels (title, subtitle, x, y, caption)\n",
        "\n",
        "\n",
        "\n",
        "\n",
        "\n",
        "\n",
        "\n",
        "  # Update theme to move plot title\n",
        "  theme(plot.title.position = 'plot')"
      ]
    },
    {
      "cell_type": "markdown",
      "metadata": {
        "id": "a6211f0b"
      },
      "source": [
        "Note how imputing the data provides more realistic estimates of the probabilities as seen by comparing the smooth curve with the steps.\n",
        "\n",
        "#### Combine Data\n",
        "\n",
        "Let us now join `tbl_names` with `tbl_lifetables_extended_2022` and add two extra columns that compute the probability that the person is alive and the number of people with that name who are expected to be alive in that year."
      ]
    },
    {
      "cell_type": "code",
      "execution_count": null,
      "metadata": {
        "name": "tbl-names-extended",
        "id": "021cd83a"
      },
      "outputs": [],
      "source": [
        "tbl_names_extended <- tbl_names |>\n",
        "  # Left join with `tbl_lifetables_extended_2022` by `sex` and `year`.\n",
        "  ___(___, by = c(\"___\", \"___\")) |>\n",
        "  # Remove any NAs in the age column\n",
        "  filter(!is.na(age)) |>\n",
        "  # Add NEW column p_alive (= lx / 10^5) for probability of being alive\n",
        "  ___(___ = ___ / ___) |>\n",
        "  # Remove the column `lx`\n",
        "  select(!lx) |>\n",
        "  # Add NEW column nb_alive (= p_alive * nb_births) for number of people alive\n",
        "  ___(___ = ___ * ___)\n",
        "\n",
        "head(tbl_names_extended)"
      ]
    },
    {
      "cell_type": "markdown",
      "metadata": {
        "id": "c46e39b2"
      },
      "source": [
        "### Estimate Age\n",
        "\n",
        "We now want to figure out the probability that a randomly selected person with a certain name is alive, as well as the quantiles of their age distribution. In particular, we will estimate the age of a female named Gertrude. Any guesses on how old a person with this name is? How about a male named William?\n",
        "\n",
        "We will start by writing a function that estimates the quantiles of the age distribution for people with a given name and sex."
      ]
    },
    {
      "cell_type": "code",
      "source": [
        "pkgs <- c(\"Hmisc\", \"janitor\", \"zoo\")\n",
        "options(repos = c(CRAN = \"https://packagemanager.rstudio.com/cran/latest\"))\n",
        "install.packages(pkgs)"
      ],
      "metadata": {
        "colab": {
          "base_uri": "https://localhost:8080/"
        },
        "id": "y-CQNsd2-yBQ",
        "outputId": "3e4db837-5d69-4bad-b739-219cd4cd13a4"
      },
      "execution_count": null,
      "outputs": [
        {
          "output_type": "stream",
          "name": "stderr",
          "text": [
            "Installing packages into ‘/usr/local/lib/R/site-library’\n",
            "(as ‘lib’ is unspecified)\n",
            "\n",
            "also installing the dependency ‘snakecase’\n",
            "\n",
            "\n"
          ]
        }
      ]
    },
    {
      "cell_type": "code",
      "execution_count": null,
      "metadata": {
        "name": "estimate-age-stats",
        "id": "b71e842e"
      },
      "outputs": [],
      "source": [
        "# Function to estimate age statistics\n",
        "estimate_age_stats <- function(tbl) {\n",
        "  tbl |>\n",
        "    summarize(\n",
        "      # Age Quantiles\n",
        "      stats = list(Hmisc::wtd.quantile(age, nb_alive)),\n",
        "      # Probability of being alive\n",
        "      p_alive = sum(nb_alive) / sum(nb_births),\n",
        "      # Median Age: Weighted mean of age and nb_alive\n",
        "      age_median = weighted.mean(age, nb_alive),\n",
        "      .groups = \"drop\"\n",
        "    ) |>\n",
        "    # Unnest the `stats` column so it stretches wide\n",
        "    unnest_wider(stats)\n",
        "}\n",
        "\n",
        "tbl_names_extended |>\n",
        "  # Filter for Gertrude/F\n",
        "  dplyr::filter(name == \"___\", sex == \"___\") |>\n",
        "  # Estimate age stats\n",
        "  estimate_age_stats()"
      ]
    },
    {
      "cell_type": "markdown",
      "metadata": {
        "id": "3f4c7011"
      },
      "source": [
        "Let us write another function that plots the age distribution for a person based on their `name` and `sex`. We can then use this function to visualize the age distribution for people with different names."
      ]
    },
    {
      "cell_type": "code",
      "execution_count": null,
      "metadata": {
        "name": "plot-estimated-age",
        "id": "0402a3d8"
      },
      "outputs": [],
      "source": [
        "plot_estimated_age <- function(tbl, my_name, my_sex) {\n",
        "  tbl |>\n",
        "    # Filter to keep only rows with `my_name` and `my_sex`\n",
        "    filter(name == ___, sex == ___) |>\n",
        "    # Add a column `age_median` with the weighted mean of age and nb_alive\n",
        "    mutate(age_median = weighted.mean(age, nb_alive)) |>\n",
        "    # Initialize a ggplot with x = year\n",
        "\n",
        "    # Add a column layer with y = nb_alive, and appropriate colors\n",
        "\n",
        "    # Add a line layer with y = nb_births, and appropriate colors\n",
        "\n",
        "    # Add a vertical line for the median age\n",
        "    geom_vline(\n",
        "      aes(xintercept = 2022 - age_median),\n",
        "      color = 'darkred',\n",
        "      linewidth = 1\n",
        "    ) +\n",
        "    # Add labels (title, subtitle, x, y)\n",
        "    labs(\n",
        "      title = glue::glue('Age Distribution of American Girls Named {my_name}'),\n",
        "      subtitle = \"___\",\n",
        "      x = \"___\",\n",
        "      y = \"___\"\n",
        "    ) +\n",
        "    # Add an annotation for number of people estimated to be alive\n",
        "    annotate(\n",
        "      geom = 'text',\n",
        "      x = 1960,\n",
        "      y = 8000,\n",
        "      label = glue::glue(\n",
        "        \"Number of {my_name}s born each year\\nestimated to be alive in 2022\"\n",
        "      ),\n",
        "      color = 'darkorange'\n",
        "    ) +\n",
        "    # Add an annotation for median age.\n",
        "    geom_text(\n",
        "      data = function(x) {head(x, 1)},\n",
        "      x = 2002,\n",
        "      y = 14000,\n",
        "      aes(label = glue::glue(\n",
        "        \"The median \\n {name} is \\n {round(age_median, 0)} years old\"\n",
        "      )),\n",
        "      color = 'darkred'\n",
        "    ) +\n",
        "    # Update theme to move plot title\n",
        "    theme(plot.title.position = 'plot')\n",
        "}\n",
        "\n",
        "tbl_names_extended |>\n",
        "  plot_estimated_age(\"Anna\", \"F\")"
      ]
    },
    {
      "cell_type": "markdown",
      "metadata": {
        "id": "1ad2edeb"
      },
      "source": [
        "Let us now get the top 25 most popular names for Females."
      ]
    },
    {
      "cell_type": "code",
      "execution_count": null,
      "metadata": {
        "name": "tbl-names-female-top-25",
        "id": "54dbd0f9"
      },
      "outputs": [],
      "source": [
        "# Create `tbl_names_female_top_25` with name and sex for top 25 females\n",
        "tbl_names_female_top_25 <- tbl_names |>\n",
        "  # Group by sex and name\n",
        "\n",
        "  # Summarize total number of births\n",
        "\n",
        "  # Filter only Females\n",
        "\n",
        "  # Slice top 25 rows\n",
        "\n",
        "  # Select name and sex\n",
        "\n",
        "  # Arrange in descending order of total number of births\n",
        "\n",
        "\n",
        "# Print `tbl_names_female_top_25`\n"
      ]
    },
    {
      "cell_type": "markdown",
      "metadata": {
        "id": "8786664d"
      },
      "source": [
        "Let us join `tbl_names_extended` with `tbl_names_female_top_25` so that we only keep rows corresponding to the top 25 female names."
      ]
    },
    {
      "cell_type": "code",
      "execution_count": null,
      "metadata": {
        "name": "tbl-names-extended-age",
        "id": "1df193f0"
      },
      "outputs": [],
      "source": [
        "tbl_names_extended_age <- tbl_names_extended |>\n",
        "  # Inner join the `tbl_names_female_top_25` table by `sex` and `name`\n",
        "\n",
        "  # Group by name and sex\n",
        "\n",
        "  # Estimate age stats\n",
        "  estimate_age_stats() |>\n",
        "  # Arrange the data based on median age\n",
        "\n",
        "  # Clean the names\n",
        "  janitor::clean_names()\n",
        "\n",
        "head(tbl_names_extended_age)"
      ]
    },
    {
      "cell_type": "code",
      "execution_count": null,
      "metadata": {
        "fig.asp": 1.1,
        "name": "plot-tbl-names-extended-age",
        "id": "b1fe5111"
      },
      "outputs": [],
      "source": [
        "tbl_names_extended_age |>\n",
        "  # Reorder name based on descending median age\n",
        "  mutate(name = fct_reorder(name, desc(age_median))) |>\n",
        "  # Initialize a ggplot of age_median vs. name\n",
        "\n",
        "  # Add a segment layer: x = x25_percent, xend = x75_percent and y_end = name\n",
        "  geom_segment(\n",
        "    aes(\n",
        "      x = ___,\n",
        "      xend = ___,\n",
        "      yend = ___\n",
        "    ),\n",
        "    color = \"___\",\n",
        "    linewidth = 5\n",
        "  ) +\n",
        "  # Add a point layer:\n",
        "  geom_point(size = 2, color = \"___\") +\n",
        "  # Add labels (title, subtitle, x, y)\n",
        "  labs(\n",
        "    title = \"___\",\n",
        "    subtitle = \"___\",\n",
        "    x = \"___\",\n",
        "    y = \"___\"\n",
        "  ) +\n",
        "  # Update theme to clean up visual appearance of the plot\n",
        "  theme(\n",
        "    axis.text.y = element_text(size = 10),\n",
        "    plot.title.position = 'plot',\n",
        "    axis.ticks = element_blank(),\n",
        "    panel.grid.major.y = element_blank(),\n",
        "    plot.background = element_rect(fill = '#f0f0f0'),\n",
        "    panel.background = element_rect(fill = '#f0f0f0')\n",
        "  )"
      ]
    }
  ],
  "nbformat": 4,
  "nbformat_minor": 0,
  "metadata": {
    "colab": {
      "provenance": [],
      "include_colab_link": true
    },
    "kernelspec": {
      "name": "ir",
      "display_name": "R"
    },
    "language_info": {
      "name": "R"
    }
  }
}